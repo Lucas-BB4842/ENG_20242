{
  "nbformat": 4,
  "nbformat_minor": 0,
  "metadata": {
    "colab": {
      "provenance": [],
      "authorship_tag": "ABX9TyPeE5g88Z4AyL2MAKfh6o9A",
      "include_colab_link": true
    },
    "kernelspec": {
      "name": "python3",
      "display_name": "Python 3"
    },
    "language_info": {
      "name": "python"
    }
  },
  "cells": [
    {
      "cell_type": "markdown",
      "metadata": {
        "id": "view-in-github",
        "colab_type": "text"
      },
      "source": [
        "<a href=\"https://colab.research.google.com/github/Lucas-BB4842/ENG_20242/blob/main/Atividade1/atv_conjunto_set_24102024.ipynb\" target=\"_parent\"><img src=\"https://colab.research.google.com/assets/colab-badge.svg\" alt=\"Open In Colab\"/></a>"
      ]
    },
    {
      "cell_type": "code",
      "execution_count": null,
      "metadata": {
        "colab": {
          "base_uri": "https://localhost:8080/"
        },
        "id": "0AXvLQZACl8l",
        "outputId": "c3e9dda8-d716-4e30-9bde-2427699f7c6f"
      },
      "outputs": [
        {
          "output_type": "stream",
          "name": "stdout",
          "text": [
            "1 x 2 = 2\n",
            "2 x 2 = 4\n",
            "3 x 2 = 6\n",
            "4 x 2 = 8\n",
            "5 x 2 = 10\n"
          ]
        }
      ],
      "source": [
        "#1. Crie uma lista contendo cinco números inteiros de sua escolha. Em seguida, percorra essa lista e imprima o valor de cada elemento multiplicado por 2.\n",
        "#   O resultado deve mostrar o novo valor de cada elemento, um por vez.\n",
        "nums = [1, 2, 3, 4, 5]\n",
        "for n in nums:\n",
        "  print(f'{n} x 2 = {n*2}')"
      ]
    },
    {
      "cell_type": "code",
      "source": [
        "#2. Dada a lista [\"maçã\", \"banana\", \"laranja\", \"uva\"], remova o item \"banana\" da lista e adicione a fruta \"melancia\" no lugar.\n",
        "#   Depois, mostre a nova lista atualizada com as alterações feitas.\n",
        "frutas = [\"maçã\", \"banana\", \"laranja\", \"uva\"]\n",
        "frutas.remove('banana')\n",
        "frutas.append('melancia')\n",
        "print(frutas)"
      ],
      "metadata": {
        "colab": {
          "base_uri": "https://localhost:8080/"
        },
        "id": "IaSsGVHfF3Pe",
        "outputId": "3aa9fd68-3e26-451e-fcdf-ecc800aded94"
      },
      "execution_count": null,
      "outputs": [
        {
          "output_type": "stream",
          "name": "stdout",
          "text": [
            "['maçã', 'laranja', 'uva', 'melancia']\n"
          ]
        }
      ]
    },
    {
      "cell_type": "code",
      "source": [
        "#3. Escreva um programa que receba uma lista de números inteiros e exiba qual é o maior número e qual é o menor número presente na lista.\n",
        "#   Certifique-se de mostrar ambos os valores ao final.\n",
        "nums = [1, 2, 3, 4, 5, 6, 7, 8, 9, 10, 11, 12, 13, 14, 15]\n",
        "print(f'O maior é {max(nums)} e o menor é {min(nums)}')"
      ],
      "metadata": {
        "colab": {
          "base_uri": "https://localhost:8080/"
        },
        "id": "gHVVcG3OHRRS",
        "outputId": "e71c2119-d50e-40e7-e8d2-bab90b4bb88a"
      },
      "execution_count": null,
      "outputs": [
        {
          "output_type": "stream",
          "name": "stdout",
          "text": [
            "O maior é 15 e o menor é 1\n"
          ]
        }
      ]
    },
    {
      "cell_type": "code",
      "source": [
        "#4. Crie uma função que receba uma lista contendo várias palavras (strings). A função deve devolver uma nova lista que contenha\n",
        "#   a quantidade de letras de cada palavra da lista original. Exiba essa nova lista com o número de letras correspondente a cada palavra.\n",
        "palavras = ['Engenharia', 'Programação', 'Python', 'UVV', 'Lucas']\n",
        "tamanho = []\n",
        "for p in palavras:\n",
        "  tamanho.append(len(p))\n",
        "\n",
        "for i in range(len(tamanho)):\n",
        "  print(f'A palavra \"{palavras[i]}\" tem {tamanho[i]} letras.')"
      ],
      "metadata": {
        "colab": {
          "base_uri": "https://localhost:8080/"
        },
        "id": "e8aQKFNOH7XJ",
        "outputId": "386159cd-708c-4088-c5f3-f2d68e1320d5"
      },
      "execution_count": null,
      "outputs": [
        {
          "output_type": "stream",
          "name": "stdout",
          "text": [
            "A palavra \"Engenharia\" tem 10 letras.\n",
            "A palavra \"Programação\" tem 11 letras.\n",
            "A palavra \"Python\" tem 6 letras.\n",
            "A palavra \"UVV\" tem 3 letras.\n",
            "A palavra \"Lucas\" tem 5 letras.\n"
          ]
        }
      ]
    },
    {
      "cell_type": "code",
      "source": [
        "#5. Dada uma lista de números inteiros que você vai definir, ordene essa lista em ordem crescente e depois exiba o resultado da lista ordenada.\n",
        "\n",
        "n = [1, 8, 45, 3, 9, -2 ,0, -56, 2, 20]\n",
        "n_nv = sorted(n)\n",
        "print(n_nv)"
      ],
      "metadata": {
        "colab": {
          "base_uri": "https://localhost:8080/"
        },
        "id": "tZAtaACYKRg-",
        "outputId": "7146a3ed-446d-4e60-bd20-5f36d9096ac2"
      },
      "execution_count": null,
      "outputs": [
        {
          "output_type": "stream",
          "name": "stdout",
          "text": [
            "[-56, -2, 0, 1, 2, 3, 8, 9, 20, 45]\n"
          ]
        }
      ]
    },
    {
      "cell_type": "code",
      "source": [
        "# 6. Crie uma tupla que contenha os números de 1 a 5. Tente alterar o valor do segundo elemento dessa tupla e observe o que acontece.\n",
        "# No final, explique por que você conseguiu ou não modificar o valor.\n",
        "\n",
        "ns = (1, 2, 3, 4, 5)\n",
        "ns[1] = 3\n",
        "\n",
        "# O elemtento não mudou porque tuplas são imutaveis."
      ],
      "metadata": {
        "colab": {
          "base_uri": "https://localhost:8080/",
          "height": 211
        },
        "id": "b583EmSRMcOi",
        "outputId": "9d3b2117-a877-4e8e-b797-a701db26fb36"
      },
      "execution_count": null,
      "outputs": [
        {
          "output_type": "error",
          "ename": "TypeError",
          "evalue": "'tuple' object does not support item assignment",
          "traceback": [
            "\u001b[0;31m---------------------------------------------------------------------------\u001b[0m",
            "\u001b[0;31mTypeError\u001b[0m                                 Traceback (most recent call last)",
            "\u001b[0;32m<ipython-input-1-62fbe73e0489>\u001b[0m in \u001b[0;36m<cell line: 5>\u001b[0;34m()\u001b[0m\n\u001b[1;32m      3\u001b[0m \u001b[0;34m\u001b[0m\u001b[0m\n\u001b[1;32m      4\u001b[0m \u001b[0mns\u001b[0m \u001b[0;34m=\u001b[0m \u001b[0;34m(\u001b[0m\u001b[0;36m1\u001b[0m\u001b[0;34m,\u001b[0m \u001b[0;36m2\u001b[0m\u001b[0;34m,\u001b[0m \u001b[0;36m3\u001b[0m\u001b[0;34m,\u001b[0m \u001b[0;36m4\u001b[0m\u001b[0;34m,\u001b[0m \u001b[0;36m5\u001b[0m\u001b[0;34m)\u001b[0m\u001b[0;34m\u001b[0m\u001b[0;34m\u001b[0m\u001b[0m\n\u001b[0;32m----> 5\u001b[0;31m \u001b[0mns\u001b[0m\u001b[0;34m[\u001b[0m\u001b[0;36m1\u001b[0m\u001b[0;34m]\u001b[0m \u001b[0;34m=\u001b[0m \u001b[0;36m3\u001b[0m\u001b[0;34m\u001b[0m\u001b[0;34m\u001b[0m\u001b[0m\n\u001b[0m\u001b[1;32m      6\u001b[0m \u001b[0;34m\u001b[0m\u001b[0m\n\u001b[1;32m      7\u001b[0m \u001b[0;31m# O elemtento não mudou porque tuplas são imutaveis.\u001b[0m\u001b[0;34m\u001b[0m\u001b[0;34m\u001b[0m\u001b[0m\n",
            "\u001b[0;31mTypeError\u001b[0m: 'tuple' object does not support item assignment"
          ]
        }
      ]
    },
    {
      "cell_type": "code",
      "source": [
        "# 7. Escreva um programa que receba uma tupla contendo diversos números inteiros.\n",
        "# O programa deve calcular e exibir a soma de todos os números presentes na tupla.\n",
        "abc = [1, 2, 3, 4, 5, 6, 7, 8, 9]\n",
        "print(f'A soma é {sum(abc)}')"
      ],
      "metadata": {
        "colab": {
          "base_uri": "https://localhost:8080/"
        },
        "id": "9gGEVdAnOGvU",
        "outputId": "dab992d3-f62b-466a-cb32-8979b517c830"
      },
      "execution_count": null,
      "outputs": [
        {
          "output_type": "stream",
          "name": "stdout",
          "text": [
            "A soma é 45\n"
          ]
        }
      ]
    },
    {
      "cell_type": "code",
      "source": [
        "# 8. Dada uma tupla que contém cinco números, crie uma função que retorne o primeiro e o último número dessa tupla.\n",
        "# O programa deve imprimir ambos os valores corretamente.\n",
        "\n",
        "minha_tupla = (1, 2, 3, 4, 5)\n",
        "print(f'O primeiro elemento é {minha_tupla[0]} e o último é {minha_tupla[-1]}')"
      ],
      "metadata": {
        "colab": {
          "base_uri": "https://localhost:8080/"
        },
        "id": "Hi5XzVnjRSQf",
        "outputId": "06a5cb7f-53fd-4865-c5a3-43a174915327"
      },
      "execution_count": null,
      "outputs": [
        {
          "output_type": "stream",
          "name": "stdout",
          "text": [
            "O primeiro elemento é 1 e o último é 5\n"
          ]
        }
      ]
    },
    {
      "cell_type": "code",
      "source": [
        "# 9. Converta a lista [\"a\", \"b\", \"c\", \"d\"] em uma tupla e, em seguida, exiba o tipo do novo objeto que foi criado.\n",
        "# O programa deve deixar claro que o tipo mudou de lista para tupla.\n",
        "\n",
        "letras = [\"a\", \"b\", \"c\", \"d\"]\n",
        "\n",
        "letras = tuple(letras)\n",
        "\n",
        "print(letras)\n",
        "print(type(letras))"
      ],
      "metadata": {
        "colab": {
          "base_uri": "https://localhost:8080/"
        },
        "id": "fcmTdg5StcgX",
        "outputId": "711cfdbd-d2f3-4f8d-eaf0-879770e33fc9"
      },
      "execution_count": null,
      "outputs": [
        {
          "output_type": "stream",
          "name": "stdout",
          "text": [
            "('a', 'b', 'c', 'd')\n",
            "<class 'tuple'>\n"
          ]
        }
      ]
    },
    {
      "cell_type": "code",
      "source": [
        "# 10. Crie uma tupla com três números inteiros e uma string. Depois, verifique se o número 3 está presente nessa tupla e\n",
        "# mostre uma mensagem dizendo se o número foi encontrado ou não.\n",
        "tuplosa = (8, 3, 4, 'Lucas')\n",
        "\n",
        "if 3 in tuplosa:\n",
        "  print(\"O número 3 está presente.\")"
      ],
      "metadata": {
        "colab": {
          "base_uri": "https://localhost:8080/"
        },
        "id": "d1y08qZKthDO",
        "outputId": "a275fc1f-603d-4820-822d-61eb8e23f5b4"
      },
      "execution_count": null,
      "outputs": [
        {
          "output_type": "stream",
          "name": "stdout",
          "text": [
            "O número 3 está presente.\n"
          ]
        }
      ]
    },
    {
      "cell_type": "code",
      "source": [
        "# 11. Crie dois sets: set1 = {1, 2, 3, 4} e set2 = {3, 4, 5, 6}. Exiba a união dos dois sets (todos os elementos sem repetição),\n",
        "# a interseção (elementos que aparecem nos dois sets) e a diferença (elementos presentes no primeiro set, mas não no segundo).\n",
        "# Mostre os resultados de cada operação.\n",
        "set1 = {1, 2, 3, 4}\n",
        "set2 = {3, 4, 5, 6}\n",
        "print(f'União:              {set1.union(set2)}')\n",
        "print(f'Interseção:         {set1.intersection(set2)}')\n",
        "print(f'Diferença:          {set1.difference(set2)}')"
      ],
      "metadata": {
        "colab": {
          "base_uri": "https://localhost:8080/"
        },
        "id": "Sc9OlVh4tjVt",
        "outputId": "a458e07c-e0fa-4dc1-e20a-19c2e7e1efe8"
      },
      "execution_count": null,
      "outputs": [
        {
          "output_type": "stream",
          "name": "stdout",
          "text": [
            "União:              {1, 2, 3, 4, 5, 6}\n",
            "Interseção:         {3, 4}\n",
            "Diferença:          {1, 2}\n"
          ]
        }
      ]
    },
    {
      "cell_type": "code",
      "source": [
        "# 12. Dada a lista [1, 2, 2, 3, 4, 4, 5], remova os elementos duplicados transformando a lista em um set.\n",
        "# Ao final, exiba o set resultante, que deve conter apenas valores únicos.\n",
        "little_lista = [1, 2, 2, 3, 4, 4, 5]\n",
        "little_set = set(little_lista)\n",
        "print(f'{little_set}')"
      ],
      "metadata": {
        "colab": {
          "base_uri": "https://localhost:8080/"
        },
        "id": "ASXkXNhbtvls",
        "outputId": "8bc8952f-2b49-4012-ba65-3ef5fed3195f"
      },
      "execution_count": null,
      "outputs": [
        {
          "output_type": "stream",
          "name": "stdout",
          "text": [
            "{1, 2, 3, 4, 5}\n"
          ]
        }
      ]
    },
    {
      "cell_type": "code",
      "source": [
        "# 13. Crie um set contendo os valores {5, 10, 15, 20}. Adicione o número 25 a esse set e depois remova o valor 15.\n",
        "# Mostre o set após cada alteração.\n",
        "valores = {5, 10, 15, 20}\n",
        "print(valores, '\\n')\n",
        "valores.add(25)\n",
        "print(f'Após adicionar o 25\\n{valores}\\n')\n",
        "valores.remove(15)\n",
        "print(f'Após remover o 15\\n{valores}')"
      ],
      "metadata": {
        "colab": {
          "base_uri": "https://localhost:8080/"
        },
        "id": "ms0HXeTSt1Jo",
        "outputId": "148c5c30-3da4-47c0-f354-0580b5f66ecf"
      },
      "execution_count": null,
      "outputs": [
        {
          "output_type": "stream",
          "name": "stdout",
          "text": [
            "{10, 20, 5, 15} \n",
            "\n",
            "Após adicionar o 25\n",
            "{5, 10, 15, 20, 25}\n",
            "\n",
            "Após remover o 15\n",
            "{5, 10, 20, 25}\n"
          ]
        }
      ]
    },
    {
      "cell_type": "code",
      "source": [
        "# 14. Verifique se o número 7 está presente no set {1, 2, 3, 4, 5}. O programa deve exibir uma\n",
        "# mensagem informando se o número foi encontrado ou não no set.\n",
        "baiano = {1, 2, 3, 4, 5}\n",
        "if 7 in baiano:\n",
        "  print(\"O 7 está presente\")\n",
        "\n",
        "else:\n",
        "  print(\"O 7 não está presente\")"
      ],
      "metadata": {
        "colab": {
          "base_uri": "https://localhost:8080/"
        },
        "id": "ZUKAXva-t4AY",
        "outputId": "f7725dae-9521-40dd-f01a-bc4f001a151c"
      },
      "execution_count": null,
      "outputs": [
        {
          "output_type": "stream",
          "name": "stdout",
          "text": [
            "O 7 não está presente\n"
          ]
        }
      ]
    },
    {
      "cell_type": "code",
      "source": [
        "#15. Crie um set vazio e adicione vários valores a ele usando um laço de repetição (por exemplo, um for ou while).\n",
        "# No final, mostre todos os valores armazenados no set.\n",
        "numsei = set()\n",
        "i = int(input('Digite um valor para adicionar na lista(0 para sair): '))\n",
        "while i != 0:\n",
        "  numsei.add(i)\n",
        "  i = int(input('Digite um valor para adicionar na lista(0 para sair): '))\n",
        "\n",
        "print(f'O conjunto final foi: {numsei}')\n"
      ],
      "metadata": {
        "colab": {
          "base_uri": "https://localhost:8080/"
        },
        "id": "x72mqmort7LQ",
        "outputId": "2db9b055-b33c-45b2-d817-a613a363cc54"
      },
      "execution_count": null,
      "outputs": [
        {
          "output_type": "stream",
          "name": "stdout",
          "text": [
            "Digite um valor para adicionar na lista(0 para sair): 4\n",
            "Digite um valor para adicionar na lista(0 para sair): 5\n",
            "Digite um valor para adicionar na lista(0 para sair): 21\n",
            "Digite um valor para adicionar na lista(0 para sair): 9\n",
            "Digite um valor para adicionar na lista(0 para sair): 6\n",
            "Digite um valor para adicionar na lista(0 para sair): -9\n",
            "Digite um valor para adicionar na lista(0 para sair): 3\n",
            "Digite um valor para adicionar na lista(0 para sair): 0\n",
            "O conjunto final foi: {3, 4, 5, 6, 9, 21, -9}\n"
          ]
        }
      ]
    },
    {
      "cell_type": "code",
      "source": [
        "# 16. Crie um dicionário com os pares chave-valor 'nome': 'Ana', 'idade': 22, 'curso': 'Engenharia'.\n",
        "# Adicione uma nova chave 'universidade': 'USP' ao dicionário. Em seguida, exiba o dicionário completo com todas as informações.\n",
        "cadastro ={\n",
        "    'nome' : 'Ana',\n",
        "    'idade': 22,\n",
        "    'curso': 'Engenharia'\n",
        "}\n",
        "\n",
        "cadastro['universidade'] = 'USP'\n",
        "\n",
        "for k, v in cadastro.items():\n",
        "  print(f'{k} : {v}')"
      ],
      "metadata": {
        "colab": {
          "base_uri": "https://localhost:8080/"
        },
        "id": "lOAKAThZt-Pw",
        "outputId": "de4867c1-bd0b-4265-ccb9-b4b6c649b2a7"
      },
      "execution_count": null,
      "outputs": [
        {
          "output_type": "stream",
          "name": "stdout",
          "text": [
            "nome : Ana\n",
            "idade : 22\n",
            "curso : Engenharia\n",
            "universidade : USP\n"
          ]
        }
      ]
    },
    {
      "cell_type": "code",
      "source": [
        "# 17. Escreva um programa que percorra um dicionário com várias chaves e valores. Para cada par, imprima a chave e o valor no\n",
        "# formato: Chave: X, Valor: Y. O dicionário pode conter qualquer informação que você preferir.\n",
        "cadastro ={\n",
        "    'nome' : 'Ana',\n",
        "    'idade': 22,\n",
        "    'curso': 'Engenharia'\n",
        "}\n",
        "\n",
        "cadastro['universidade'] = 'USP'\n",
        "\n",
        "for k, v in cadastro.items():\n",
        "  print(f'{k} : {v}')"
      ],
      "metadata": {
        "id": "9_rt0TjZt_0_"
      },
      "execution_count": null,
      "outputs": []
    },
    {
      "cell_type": "code",
      "source": [
        "# 18. Crie um dicionário que relacione nomes de alunos às suas notas. Depois, crie uma função que calcule e\n",
        "# exiba a média das notas desses alunos com base nas informações do dicionário.\n",
        "turma = {\n",
        "    'Senhor':[9, 5, 7, 2, 10],\n",
        "    'Flávin':[9, 8, 4, 5, 8],\n",
        "    'Lucas':[0, 2, 3, 4 ,5]\n",
        "    }\n",
        "\n",
        "for a, n in turma.items():\n",
        "  print(f'Aluno {a} obteve média {sum(n)/len(n)}')"
      ],
      "metadata": {
        "colab": {
          "base_uri": "https://localhost:8080/"
        },
        "id": "8f9ipmiguB5I",
        "outputId": "335694df-0f49-46da-e3d9-95facdf46c4d"
      },
      "execution_count": null,
      "outputs": [
        {
          "output_type": "stream",
          "name": "stdout",
          "text": [
            "Aluno Senhor obteve média 6.6\n",
            "Aluno Flávin obteve média 6.8\n",
            "Aluno Lucas obteve média 2.8\n"
          ]
        }
      ]
    },
    {
      "cell_type": "code",
      "source": [
        "# 19. Escreva um programa que permita ao usuário buscar o valor de uma chave específica em um dicionário.\n",
        "# Caso a chave não exista, o programa deve exibir uma mensagem dizendo que a chave não foi encontrada. Teste o programa com diferentes chaves.\n",
        "turma = {\n",
        "    'Senhor':[9, 5, 7, 2, 10],\n",
        "    'Flávin':[9, 8, 4, 5, 8],\n",
        "    'Lucas':[0, 2, 3, 4 ,5]\n",
        "    }\n",
        "\n",
        "buscador = str(input('O que procuras? '))\n",
        "if buscador in turma:\n",
        "  print(buscador, turma[buscador])\n",
        "else:\n",
        "  print('Chave não encontrada.')"
      ],
      "metadata": {
        "colab": {
          "base_uri": "https://localhost:8080/"
        },
        "id": "bI1jWTbOuDtn",
        "outputId": "9eeb2f31-d67b-411a-8952-2c73ff273d5c"
      },
      "execution_count": null,
      "outputs": [
        {
          "output_type": "stream",
          "name": "stdout",
          "text": [
            "Quem desejas procurar? Senhor\n",
            "Senhor [9, 5, 7, 2, 10]\n"
          ]
        }
      ]
    },
    {
      "cell_type": "code",
      "source": [
        "# 20. Dado um dicionário que contém produtos e seus respectivos preços, como {'pão': 2.50, 'leite': 3.00, 'café': 4.50},\n",
        "# permita que o usuário altere o preço de um dos produtos e exiba o dicionário atualizado com o novo valor.\n",
        "padoca = {'pão': 2.50, 'leite': 3.00, 'café': 4.50}\n",
        "\n",
        "print('='*20)\n",
        "print('TABELA DE PREÇOS')\n",
        "print('='*20)\n",
        "for i, p in padoca.items():\n",
        "  print(f'{i} --- R${p}')\n",
        "print('='*20)\n",
        "\n",
        "alteracao = str(input('Qual produto desejas alterar? '))\n",
        "\n",
        "if alteracao in padoca:\n",
        "  np = float(input('Qual o novo valor do produto? '))\n",
        "\n",
        "  padoca[alteracao] = np\n",
        "\n",
        "else:\n",
        "  print('Produto não encontrado.')\n",
        "\n",
        "print('='*20)\n",
        "print('TABELA ATUALIZADA')\n",
        "print('='*20)\n",
        "for i, p in padoca.items():\n",
        "  print(f'{i} --- R${p}')\n",
        "print('='*20)\n"
      ],
      "metadata": {
        "colab": {
          "base_uri": "https://localhost:8080/"
        },
        "id": "ku1CS7jxuFZo",
        "outputId": "74343b82-0188-42ae-e559-7d8cb31b517b"
      },
      "execution_count": null,
      "outputs": [
        {
          "output_type": "stream",
          "name": "stdout",
          "text": [
            "====================\n",
            "TABELA DE PREÇOS\n",
            "====================\n",
            "pão --- R$2.5\n",
            "leite --- R$3.0\n",
            "café --- R$4.5\n",
            "====================\n",
            "Qual produto desejas alterar? refrigerante\n",
            "Produto não encontrado.\n",
            "====================\n",
            "TABELA ATUALIZADA\n",
            "====================\n",
            "pão --- R$2.5\n",
            "leite --- R$3.0\n",
            "café --- R$4.5\n",
            "====================\n"
          ]
        }
      ]
    }
  ]
}
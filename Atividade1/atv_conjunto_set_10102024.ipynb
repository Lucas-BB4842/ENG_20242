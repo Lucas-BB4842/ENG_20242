{
  "nbformat": 4,
  "nbformat_minor": 0,
  "metadata": {
    "colab": {
      "provenance": [],
      "authorship_tag": "ABX9TyMo6FUSpF2eDbI7hg096FN2",
      "include_colab_link": true
    },
    "kernelspec": {
      "name": "python3",
      "display_name": "Python 3"
    },
    "language_info": {
      "name": "python"
    }
  },
  "cells": [
    {
      "cell_type": "markdown",
      "metadata": {
        "id": "view-in-github",
        "colab_type": "text"
      },
      "source": [
        "<a href=\"https://colab.research.google.com/github/Lucas-BB4842/ENG_20242/blob/main/Atividade1/atv_conjunto_set_10102024.ipynb\" target=\"_parent\"><img src=\"https://colab.research.google.com/assets/colab-badge.svg\" alt=\"Open In Colab\"/></a>"
      ]
    },
    {
      "cell_type": "code",
      "execution_count": null,
      "metadata": {
        "id": "VMvMWpxDIluS"
      },
      "outputs": [],
      "source": [
        "# 1. Crie uma tupla chamada cidades que contenha os nomes de cinco cidades. Imprima a terceira cidade.\n",
        "\n",
        "cidades = ('Penha','Vila Velha','New York','Curitiba','Porto Alegre')\n",
        "\n",
        "print(cidades[2])"
      ]
    },
    {
      "cell_type": "code",
      "source": [
        "# 2. Crie uma tupla chamada numeros com os seguintes valores: (1, 2, 3, 1, 4, 1).\n",
        "# Utilize o método count() para contar quantas vezes o número 1 aparece na tupla.\n",
        "numeros = (1, 2, 3, 1, 4, 1)\n",
        "print(numeros.count(1))"
      ],
      "metadata": {
        "id": "YGDQ2rGtIulj"
      },
      "execution_count": null,
      "outputs": []
    },
    {
      "cell_type": "code",
      "source": [
        "# 3; Crie uma tupla chamada animais com os seguintes valores: ('cachorro', 'gato', 'pássaro').\n",
        "# Verifique se 'gato' está na tupla e imprima uma mensagem informando o resultado.\n",
        "\n",
        "animais = ('cachorro', 'gato', 'pássaro')\n",
        "\n",
        "if 'gato' in animais:\n",
        "  print('gato está na lista.')\n",
        "else:\n",
        "  print('gato não está na lista')"
      ],
      "metadata": {
        "id": "plc9uYXsI0Wi"
      },
      "execution_count": null,
      "outputs": []
    },
    {
      "cell_type": "code",
      "source": [
        "# 4. Dada a tupla meses = ('janeiro', 'fevereiro', 'março', 'abril', 'maio'),\n",
        "# encontre e imprima o índice do mês 'abril'.\n",
        "\n",
        "meses = ('janeiro', 'fevereiro', 'março', 'abril', 'maio')\n",
        "local = meses.index('abril')\n",
        "print(f'O mês abril se encontra na posição {local} na lista.')"
      ],
      "metadata": {
        "id": "Ip0Bdj7dI0ej"
      },
      "execution_count": null,
      "outputs": []
    },
    {
      "cell_type": "code",
      "source": [
        "# 5. Crie uma tupla chamada coordenadas que armazene a latitude e longitude de um local (ex: (-23.5505, -46.6333)).\n",
        "# Imprima a latitude e a longitude separadamente.\n",
        "\n",
        "coordenadas = (-23.5505, -46.6333)\n",
        "\n",
        "print(f' Latitude = {coordenadas[0]} \\n Longitude = {coordenadas[1]}')\n"
      ],
      "metadata": {
        "id": "YsdErgEuI0mz"
      },
      "execution_count": null,
      "outputs": []
    },
    {
      "cell_type": "code",
      "source": [
        "# 6. Crie um dicionário chamado carro com as chaves marca, modelo e ano.\n",
        "# Atribua valores de sua escolha e imprima o modelo do carro.\n",
        "\n",
        "carro = {\n",
        "    'marca': 'Toyota',\n",
        "    'modelo': 'Corolla XEI 2.0',\n",
        "    'ano':'2017'\n",
        "}\n",
        "\n",
        "print(carro['modelo'])"
      ],
      "metadata": {
        "id": "1cewQlLkI0uq"
      },
      "execution_count": null,
      "outputs": []
    },
    {
      "cell_type": "code",
      "source": [
        "# 7. Use o dicionário carro que você criou no exercício anterior. Adicione uma nova chave chamada cor e\n",
        "# atribua uma cor ao carro. Em seguida, imprima o dicionário completo\n",
        "\n",
        "carro = {\n",
        "    'marca': 'Toyota',\n",
        "    'modelo': 'Corolla XEI 2.0',\n",
        "    'ano':'2017'\n",
        "}\n",
        "\n",
        "carro['cor'] = 'Branco Perolado'\n",
        "\n",
        "print(carro)"
      ],
      "metadata": {
        "id": "LHTUmXAtI02L"
      },
      "execution_count": null,
      "outputs": []
    },
    {
      "cell_type": "code",
      "source": [
        "# 8. Dado o dicionário pessoa = {'nome': 'João', 'idade': 30, 'cidade': 'São Paulo'}, remova a chave idade e imprima o dicionário resultante.\n",
        "\n",
        "pessoa = {'nome': 'João', 'idade': 30, 'cidade': 'São Paulo'}\n",
        "pessoa.pop('idade')\n",
        "print(pessoa)"
      ],
      "metadata": {
        "id": "Ug_aCffTI097"
      },
      "execution_count": null,
      "outputs": []
    },
    {
      "cell_type": "code",
      "source": [
        "# 9. Crie um dicionário chamado produto que contenha nome, preco e quantidade. Use um loop for para imprimir todos os pares chave/valor.\n",
        "\n",
        "produto = {\n",
        "    'nome': 'biscoito',\n",
        "    'preço': 'R$ 5.00',\n",
        "    'quantidade': 1\n",
        "}\n",
        "\n",
        "for i in produto:\n",
        "  print(f'{i}: {produto[i]}')"
      ],
      "metadata": {
        "id": "CxaJbYO1I13K"
      },
      "execution_count": null,
      "outputs": []
    },
    {
      "cell_type": "code",
      "source": [
        "# 10 Dado o dicionário estudante = {'nome': 'Maria', 'curso': 'Biologia', 'ano': 2}, verifique se a chave curso existe.\n",
        "# Se existir, imprima \"A estudante está no curso de Biologia.\"\n",
        "\n",
        "estudante = {'nome': 'Maria', 'curso': 'Biologia', 'ano': 2}\n",
        "\n",
        "if 'curso' in estudante:\n",
        "  print(f\"A estudante está no curso de {estudante['curso']}\")\n",
        "else:\n",
        "  print(f\"A estudante não está no curso de {estudante['curso']}\")\n"
      ],
      "metadata": {
        "id": "UkdBePGaKKJB"
      },
      "execution_count": null,
      "outputs": []
    }
  ]
}
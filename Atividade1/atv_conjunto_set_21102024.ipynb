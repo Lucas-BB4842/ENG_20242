{
  "nbformat": 4,
  "nbformat_minor": 0,
  "metadata": {
    "colab": {
      "provenance": [],
      "authorship_tag": "ABX9TyPbrSpjlzYqEOrFXVb7YYNg",
      "include_colab_link": true
    },
    "kernelspec": {
      "name": "python3",
      "display_name": "Python 3"
    },
    "language_info": {
      "name": "python"
    }
  },
  "cells": [
    {
      "cell_type": "markdown",
      "metadata": {
        "id": "view-in-github",
        "colab_type": "text"
      },
      "source": [
        "<a href=\"https://colab.research.google.com/github/Lucas-BB4842/ENG_20242/blob/main/Atividade1/atv_conjunto_set_21102024.ipynb\" target=\"_parent\"><img src=\"https://colab.research.google.com/assets/colab-badge.svg\" alt=\"Open In Colab\"/></a>"
      ]
    },
    {
      "cell_type": "code",
      "execution_count": null,
      "metadata": {
        "colab": {
          "base_uri": "https://localhost:8080/"
        },
        "id": "iVgNcnmqyg6S",
        "outputId": "630a2a44-acf9-4461-aa8d-7b149ebc576b"
      },
      "outputs": [
        {
          "output_type": "stream",
          "name": "stdout",
          "text": [
            "{'laranja', 'banana', 'uva', 'maçã'}\n"
          ]
        }
      ],
      "source": [
        "#1 - Crie um conjunto chamado `frutas` que contenha os seguintes elementos: \"maçã\", \"banana\", \"laranja\" e \"uva\".\n",
        "#    Depois de criar o conjunto, exiba-o no console para confirmar os elementos adicionados.\n",
        "\n",
        "frutas = {\"maçã\", \"banana\", \"laranja\", \"uva\"}\n",
        "\n",
        "print(frutas)"
      ]
    },
    {
      "cell_type": "code",
      "source": [
        "#2 - Utilizando o conjunto `frutas` criado anteriormente, adicione a fruta \"morango\" ao conjunto.\n",
        "#    Lembre-se que conjuntos não permitem duplicatas, então adicione um elemento que já exista para verificar o comportamento.\n",
        "\n",
        "frutas.add('morango')\n",
        "print(frutas)"
      ],
      "metadata": {
        "colab": {
          "base_uri": "https://localhost:8080/"
        },
        "id": "xxECXV570YQu",
        "outputId": "53658e81-78f1-4077-826c-d6a03c3a6d6e"
      },
      "execution_count": null,
      "outputs": [
        {
          "output_type": "stream",
          "name": "stdout",
          "text": [
            "{'maçã', 'laranja', 'uva', 'banana', 'morango'}\n"
          ]
        }
      ]
    },
    {
      "cell_type": "code",
      "source": [
        "#3 - Remova a fruta \"banana\" do conjunto `frutas`. Se \"banana\" não estiver presente, o código pode gerar um erro.\n",
        "#    Verifique se a fruta existe antes de removê-la ou trate o erro adequadamente.\n",
        "\n",
        "if \"banana\" in frutas:\n",
        "  frutas.remove('banana')\n",
        "\n",
        "print(frutas)"
      ],
      "metadata": {
        "colab": {
          "base_uri": "https://localhost:8080/"
        },
        "id": "XvFc3KHk0rYC",
        "outputId": "79467208-fe35-49d0-868e-fde169580435"
      },
      "execution_count": null,
      "outputs": [
        {
          "output_type": "stream",
          "name": "stdout",
          "text": [
            "{'maçã', 'laranja', 'uva', 'morango'}\n"
          ]
        }
      ]
    },
    {
      "cell_type": "code",
      "source": [
        "\n",
        "#4 - Verifique se a fruta \"laranja\" está presente no conjunto `frutas` usando uma estrutura condicional.\n",
        "#    Exiba uma mensagem no console indicando se \"laranja\" está ou não presente no conjunto.\n",
        "\n",
        "if \"laranja\" in frutas:\n",
        "  print(\"'Laranja' está em frutas!\")\n",
        "\n",
        "else:\n",
        "  print(\"'Laranja' não está em frutas!\")"
      ],
      "metadata": {
        "colab": {
          "base_uri": "https://localhost:8080/"
        },
        "id": "AYgygOJp1bQo",
        "outputId": "062e2884-e278-4668-d4a4-e2fb4bb5ec07"
      },
      "execution_count": null,
      "outputs": [
        {
          "output_type": "stream",
          "name": "stdout",
          "text": [
            "'Laranja' está em frutas!\n"
          ]
        }
      ]
    },
    {
      "cell_type": "code",
      "source": [
        "#5 - Crie um segundo conjunto chamado `citrus`, contendo \"laranja\", \"limão\" e \"tangerina\". Faça a união dos conjuntos `frutas` e `citrus`,\n",
        "#    criando um novo conjunto que contém todos os elementos dos dois conjuntos. Exiba o resultado dessa união.\n",
        "citrus = {\"laranja\", \"limão\", \"tangerina\"}\n",
        "print(frutas.union(citrus))"
      ],
      "metadata": {
        "id": "FpccqemR2420",
        "colab": {
          "base_uri": "https://localhost:8080/"
        },
        "outputId": "5b64e00a-d882-43fb-e808-b6b75a13e067"
      },
      "execution_count": null,
      "outputs": [
        {
          "output_type": "stream",
          "name": "stdout",
          "text": [
            "{'maçã', 'tangerina', 'laranja', 'uva', 'limão', 'morango'}\n"
          ]
        }
      ]
    },
    {
      "cell_type": "code",
      "source": [
        "# 6 - Usando os conjuntos `frutas` e `citrus`, encontre a interseção entre eles, ou seja, os elementos que estão presentes em ambos os conjuntos.\n",
        "# Exiba os elementos comuns.\n",
        "\n",
        "print(frutas.intersection(citrus))"
      ],
      "metadata": {
        "colab": {
          "base_uri": "https://localhost:8080/"
        },
        "id": "A9sS0wV6oAuV",
        "outputId": "06837df2-9bdb-432e-ef8d-7512448839c8"
      },
      "execution_count": null,
      "outputs": [
        {
          "output_type": "stream",
          "name": "stdout",
          "text": [
            "{'laranja'}\n"
          ]
        }
      ]
    },
    {
      "cell_type": "code",
      "source": [
        "# 7 - Encontre a diferença entre os conjuntos `frutas` e `citrus`, ou seja, os elementos que estão em `frutas`\n",
        "# mas não estão em `citrus`. Exiba o resultado dessa diferença.\n",
        "\n",
        "print(frutas-citrus)"
      ],
      "metadata": {
        "colab": {
          "base_uri": "https://localhost:8080/"
        },
        "id": "oL__el4_oDnE",
        "outputId": "a26cb01a-e893-4d81-9d27-25f885be95d8"
      },
      "execution_count": null,
      "outputs": [
        {
          "output_type": "stream",
          "name": "stdout",
          "text": [
            "{'maçã', 'uva', 'morango'}\n"
          ]
        }
      ]
    },
    {
      "cell_type": "code",
      "source": [
        "# 8 - Esvazie completamente o conjunto `citrus` usando um método específico que remove todos os elementos de um conjunto.\n",
        "# Verifique se o conjunto foi realmente esvaziado ao exibi-lo no console após a operação.\n",
        "\n",
        "citrus.clear()\n",
        "print(citrus)"
      ],
      "metadata": {
        "colab": {
          "base_uri": "https://localhost:8080/"
        },
        "id": "GNz8Z2UvoFV0",
        "outputId": "75d32c58-c79a-4e03-987f-0411732f56e6"
      },
      "execution_count": null,
      "outputs": [
        {
          "output_type": "stream",
          "name": "stdout",
          "text": [
            "set()\n"
          ]
        }
      ]
    },
    {
      "cell_type": "code",
      "source": [
        "# 9 - Converta o conjunto `frutas` em um conjunto imutável, ou seja, um conjunto que não pode ser alterado após sua criação.\n",
        "#  Crie esse conjunto imutável e exiba-o no console.\n",
        "frozenset(frutas)\n",
        "print(frutas)"
      ],
      "metadata": {
        "colab": {
          "base_uri": "https://localhost:8080/"
        },
        "id": "PzjbwL_SoGp8",
        "outputId": "a37bbb86-2bf2-4ab4-c5dc-f411ade4b590"
      },
      "execution_count": null,
      "outputs": [
        {
          "output_type": "stream",
          "name": "stdout",
          "text": [
            "{'maçã', 'laranja', 'uva', 'morango'}\n"
          ]
        }
      ]
    },
    {
      "cell_type": "code",
      "source": [
        "#10 - Conte quantos elementos únicos existem no conjunto `frutas` e exiba o número total de elementos no console.\n",
        "\n",
        "unicos = len(frutas)\n",
        "print(f'Número de elementos únicos: {unicos}')"
      ],
      "metadata": {
        "colab": {
          "base_uri": "https://localhost:8080/"
        },
        "id": "mE3V_DL9oKfn",
        "outputId": "b009cfb8-b834-455b-e7b7-52f84eb07815"
      },
      "execution_count": null,
      "outputs": [
        {
          "output_type": "stream",
          "name": "stdout",
          "text": [
            "Número de elementos únicos: 4\n"
          ]
        }
      ]
    }
  ]
}
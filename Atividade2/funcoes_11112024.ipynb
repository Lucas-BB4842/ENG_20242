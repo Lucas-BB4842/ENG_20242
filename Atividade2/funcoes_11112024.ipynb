{
  "nbformat": 4,
  "nbformat_minor": 0,
  "metadata": {
    "colab": {
      "provenance": [],
      "authorship_tag": "ABX9TyPBAalAsQR6vu5WUniiE0i4",
      "include_colab_link": true
    },
    "kernelspec": {
      "name": "python3",
      "display_name": "Python 3"
    },
    "language_info": {
      "name": "python"
    }
  },
  "cells": [
    {
      "cell_type": "markdown",
      "metadata": {
        "id": "view-in-github",
        "colab_type": "text"
      },
      "source": [
        "<a href=\"https://colab.research.google.com/github/Lucas-BB4842/ENG_20242/blob/main/Atividade2/funcoes_11112024.ipynb\" target=\"_parent\"><img src=\"https://colab.research.google.com/assets/colab-badge.svg\" alt=\"Open In Colab\"/></a>"
      ]
    },
    {
      "cell_type": "code",
      "execution_count": 12,
      "metadata": {
        "id": "cZ5YII0KsjK7"
      },
      "outputs": [],
      "source": [
        "#1. Crie uma função que receba uma lista de números e retorne uma lista contendo apenas os números ímpares.\n",
        "def EncontraImpar(numeros):\n",
        "  impares = []\n",
        "  for n in numeros:\n",
        "    if n % 2 == 1:\n",
        "      impares.append(n)\n",
        "\n",
        "  return impares\n",
        "\n",
        "#2. Escreva uma função que receba uma lista e retorne uma nova lista com o dobro de cada elemento.\n",
        "def Dobra(numeros):\n",
        "  dobrados = []\n",
        "  for i in numeros:\n",
        "    dobrados.append(i*2)\n",
        "\n",
        "  return dobrados\n",
        "\n",
        "#3. Faça uma função que receba uma lista e retorne uma lista sem duplicatas.\n",
        "def unicos(lista):\n",
        "  lista = set(lista)\n",
        "  lista = list(lista)\n",
        "  return lista\n",
        "\n",
        "#4. Crie uma função que receba uma lista e um valor divisor e retorne uma lista dos elementos que são divisíveis pelo divisor.\n",
        "def divisiveis(lista, divisor):\n",
        "  divis = []\n",
        "  for i in lista:\n",
        "    if i % divisor == 0:\n",
        "      divis.append(i)\n",
        "\n",
        "  return divis\n",
        "\n",
        "#5. Escreva uma função que receba duas listas e retorne um conjunto com os elementos que aparecem em ambas.\n",
        "def intersecao(lista1, lista2):\n",
        "  inter = []\n",
        "  for a in lista1:\n",
        "    if a in lista2:\n",
        "      inter.append(a)\n",
        "\n",
        "  return inter\n",
        "\n",
        "#6. Crie uma função que receba uma lista e retorne uma nova lista com os elementos em ordem inversa.\n",
        "def inverte(lista):\n",
        "  inverso = sorted(lista, reverse = True)\n",
        "  return inverso\n",
        "\n",
        "#7. Escreva uma função que receba uma lista de números e retorne uma lista contendo o quadrado de cada número.\n",
        "def quadrados(lista):\n",
        "  q = [a**2 for a in lista]\n",
        "  return q\n",
        "\n",
        "#8. Crie uma função que receba uma lista e um valor, e retorne uma lista com os elementos maiores que esse valor.\n",
        "def compara(lista, v):\n",
        "  maiores = [a for a in lista if a > v]\n",
        "\n",
        "  return maiores\n",
        "\n",
        "#9. Escreva uma função que receba duas listas e retorne uma lista dos elementos que estão em apenas uma das listas.\n",
        "def exclusivos(lista1, lista2):\n",
        "  exclu = [e for e in lista1 if e not in lista2]\n",
        "\n",
        "  return exclu\n",
        "\n",
        "#10. Faça uma função que receba uma lista e retorne um conjunto dos elementos únicos.\n",
        "def originais(lista):\n",
        "  o = []\n",
        "  for a in lista:\n",
        "    if lista.count(a) == 1:\n",
        "        o.append(a)\n",
        "\n",
        "  return o\n",
        "\n",
        "#11. Crie uma função que receba duas listas e retorne uma lista dos elementos únicos que estão em ambas.\n",
        "def QueFuncaoEEssaProfessor(lista1, lista2):\n",
        "  a = originais(lista1)\n",
        "  b = originais(lista2)\n",
        "\n",
        "  return intersecao(a, b)\n",
        "\n",
        "#12. Escreva uma função que receba uma lista e retorne uma lista contendo os elementos que aparecem mais de uma vez.\n",
        "def MaisDeUm(listinha):\n",
        "  mdu = [a for a in listinha if listinha.count(a) > 1]\n",
        "  mdu = unicos(mdu)\n",
        "\n",
        "  return mdu\n",
        "#13. Faça uma função que receba uma lista de números e retorne uma lista dos números pares.\n",
        "def EncontraPar(numeros):\n",
        "  pares = []\n",
        "  for n in numeros:\n",
        "    if n % 2 == 0:\n",
        "      pares.append(n)\n",
        "\n",
        "  return pares\n",
        "\n",
        "#14. Escreva uma função que receba uma lista de números e um valor, e retorne uma lista com os índices dos elementos maiores que o valor.\n",
        "def funcaoIndice(lista, valor):\n",
        "  indices = [lista.index(a) for a in lista if a > valor]\n",
        "\n",
        "  return indices\n",
        "\n",
        "#15. Crie uma função que receba uma lista de strings e retorne uma lista com o tamanho de cada string.\n",
        "def tamanho(lista):\n",
        "  tamanhos = [len(a) for a in lista]\n",
        "\n",
        "  return tamanhos\n",
        "\n",
        "#16. Escreva uma função que receba uma lista de números e retorne uma lista contendo cada número elevado ao cubo.\n",
        "def AoCubo(listinha):\n",
        "  cubos = [x**3 for x in listinha]\n",
        "  return cubos\n",
        "\n",
        "#17. Crie uma função que receba uma lista e retorne uma lista de todos os elementos únicos.\n",
        "def originais(lista):\n",
        "  o = []\n",
        "  for a in lista:\n",
        "    if lista.count(a) == 1:\n",
        "        o.append(a)\n",
        "\n",
        "  return o\n",
        "\n",
        "#18. Escreva uma função que receba uma lista de strings e retorne uma lista contendo as strings que começam com uma letra maiúscula.\n",
        "def maiusculo(OutraLista):\n",
        "  m = [s for s in OutraLista if s == s.capitalize()]\n",
        "\n",
        "  return m\n",
        "\n",
        "#19. Faça uma função que receba uma lista de números e retorne uma lista contendo apenas os múltiplos de 3.\n",
        "def MultiploDe3(lista):\n",
        "  mult = [m for m in lista if m % 3 == 0]\n",
        "\n",
        "  return mult\n",
        "\n",
        "#20. Escreva uma função que receba duas listas e retorne uma lista com a interseção ordenada de forma crescente entre elas.\n",
        "def intersecao_ordenada(listaA, listaB):\n",
        "  inter = intersecao(listaA, listaB)\n",
        "  inter_ord = sorted(inter)\n",
        "\n",
        "  return inter_ord"
      ]
    },
    {
      "cell_type": "code",
      "source": [
        "#EXERCÍCIO 01\n",
        "lista_numeros = [1, 2, 3, 4, 5, 6, 7, 8, 9, 10]\n",
        "x = EncontraImpar(lista_numeros)\n",
        "print(f'Os ímpares encontrados foram {x}')"
      ],
      "metadata": {
        "id": "_pVPnkWZtYXd",
        "colab": {
          "base_uri": "https://localhost:8080/"
        },
        "outputId": "fb674226-9ce4-4455-bdf8-42534768b9eb"
      },
      "execution_count": null,
      "outputs": [
        {
          "output_type": "stream",
          "name": "stdout",
          "text": [
            "Os ímpares encontrados foram [1, 3, 5, 7, 9]\n"
          ]
        }
      ]
    },
    {
      "cell_type": "code",
      "source": [
        "#EXERCÍCIO 02\n",
        "lista_numeros = [1, 2, 3, 4, 5, 6, 7, 8, 9, 10]\n",
        "a = Dobra(lista_numeros)\n",
        "print(f'Os valores dobrados ficam {a}')"
      ],
      "metadata": {
        "colab": {
          "base_uri": "https://localhost:8080/"
        },
        "id": "9ZFxyOKru_yh",
        "outputId": "c8880ead-2f01-4acf-b55d-edb32b718c93"
      },
      "execution_count": null,
      "outputs": [
        {
          "output_type": "stream",
          "name": "stdout",
          "text": [
            "Os valores dobrados ficam [2, 4, 6, 8, 10, 12, 14, 16, 18, 20]\n"
          ]
        }
      ]
    },
    {
      "cell_type": "code",
      "source": [
        "#EXERCÍCIO 03\n",
        "vls = [1, 1, 2, 3, 4, 4, 5]\n",
        "u = unicos(vls)\n",
        "print(f'A lista com os valores sem duplicados é {u}')"
      ],
      "metadata": {
        "colab": {
          "base_uri": "https://localhost:8080/"
        },
        "id": "r1-mN2aLvbOf",
        "outputId": "9fa86a7c-4956-4cff-8219-4654d63fa355"
      },
      "execution_count": null,
      "outputs": [
        {
          "output_type": "stream",
          "name": "stdout",
          "text": [
            "A lista com os valores sem duplicados é [1, 2, 3, 4, 5]\n"
          ]
        }
      ]
    },
    {
      "cell_type": "code",
      "source": [
        "#EXERCÍCIO 04\n",
        "lista_numeros = [1, 2, 3, 4, 5, 6, 7, 8, 9, 10]\n",
        "print(f'Os números de {lista_numeros} divididos por {2} são {divisiveis(lista_numeros, 2)}')"
      ],
      "metadata": {
        "colab": {
          "base_uri": "https://localhost:8080/"
        },
        "id": "l6pindfvvcEH",
        "outputId": "e0c35df0-ff70-4f98-8f80-0dcbe366ee3c"
      },
      "execution_count": null,
      "outputs": [
        {
          "output_type": "stream",
          "name": "stdout",
          "text": [
            "Os números de [1, 2, 3, 4, 5, 6, 7, 8, 9, 10] divididos por 2 são [2, 4, 6, 8, 10]\n"
          ]
        }
      ]
    },
    {
      "cell_type": "code",
      "source": [
        "#EXERCÍCIO 05\n",
        "listaA = [1, 2, 3]\n",
        "listaB = [2, 3, 4]\n",
        "i = intersecao(listaA, listaB)\n",
        "print(f'A interseção das duas listas é {i}')"
      ],
      "metadata": {
        "colab": {
          "base_uri": "https://localhost:8080/"
        },
        "id": "czjTpGa2vefv",
        "outputId": "08d262af-6df4-4c7c-a63d-852be9515b43"
      },
      "execution_count": null,
      "outputs": [
        {
          "output_type": "stream",
          "name": "stdout",
          "text": [
            "A interseção das duas listas é [2, 3]\n"
          ]
        }
      ]
    },
    {
      "cell_type": "code",
      "source": [
        "#EXERCÍCIO 06\n",
        "listaA = [1, 2, 3]\n",
        "print(f'A lista inversa é {inverte(listaA)}')"
      ],
      "metadata": {
        "colab": {
          "base_uri": "https://localhost:8080/"
        },
        "id": "KLQGLvxNvfCB",
        "outputId": "fbfda142-9694-4a01-d6e1-8b8751242a4f"
      },
      "execution_count": null,
      "outputs": [
        {
          "output_type": "stream",
          "name": "stdout",
          "text": [
            "A lista inversa é [3, 2, 1]\n"
          ]
        }
      ]
    },
    {
      "cell_type": "code",
      "source": [
        "#EXERCÍCIO 07\n",
        "listaA = [1, 2, 3]\n",
        "print(f'Os elementos da lista ao quadrado são {quadrados(listaA)}')"
      ],
      "metadata": {
        "colab": {
          "base_uri": "https://localhost:8080/"
        },
        "id": "2XQVusiZvfQS",
        "outputId": "6649b56f-1538-44ac-e055-ee4048daf17a"
      },
      "execution_count": null,
      "outputs": [
        {
          "output_type": "stream",
          "name": "stdout",
          "text": [
            "Os elementos da lista ao quadrado são [1, 4, 9]\n"
          ]
        }
      ]
    },
    {
      "cell_type": "code",
      "source": [
        "#EXERCÍCIO 08\n",
        "lista_numeros = [1, 2, 3, 4, 5, 6, 7, 8, 9, 10]\n",
        "print(f'Os valores de {lista_numeros} maiores que {4} são {compara(lista_numeros, 4)}')"
      ],
      "metadata": {
        "colab": {
          "base_uri": "https://localhost:8080/"
        },
        "id": "w3i2wD3PvgIm",
        "outputId": "f8cf6e3a-a247-42b1-de40-49a34d612255"
      },
      "execution_count": null,
      "outputs": [
        {
          "output_type": "stream",
          "name": "stdout",
          "text": [
            "Os valores de [1, 2, 3, 4, 5, 6, 7, 8, 9, 10] maiores que 4 são [5, 6, 7, 8, 9, 10]\n"
          ]
        }
      ]
    },
    {
      "cell_type": "code",
      "source": [
        "#EXERCÍCIO 09\n",
        "listaA = [1, 2, 3, ]\n",
        "listaB = [2, 3, 4]\n",
        "print(f'Os números exclusivos da primeira lista são {exclusivos(listaA, listaB)}')"
      ],
      "metadata": {
        "colab": {
          "base_uri": "https://localhost:8080/"
        },
        "id": "eP4bjavSvgaB",
        "outputId": "c29b1cc7-7c55-4209-d743-0c20d53eab1e"
      },
      "execution_count": null,
      "outputs": [
        {
          "output_type": "stream",
          "name": "stdout",
          "text": [
            "Os números exclusivos da primeira lista são [1, 5]\n"
          ]
        }
      ]
    },
    {
      "cell_type": "code",
      "source": [
        "#EXERCÍCIO 10\n",
        "lista_teste = [1, 2, 2, 3, 3, 4, 5]\n",
        "print(f'Os itens que aparecem uma vez na lista são {originais(lista_teste)}')"
      ],
      "metadata": {
        "colab": {
          "base_uri": "https://localhost:8080/"
        },
        "id": "AD3TAhcx4zHH",
        "outputId": "f0ce6ce6-7335-489c-830c-184dd6940c7c"
      },
      "execution_count": null,
      "outputs": [
        {
          "output_type": "stream",
          "name": "stdout",
          "text": [
            "Os itens que aparecem uma vez na lista são [1, 4, 5]\n"
          ]
        }
      ]
    },
    {
      "cell_type": "code",
      "source": [
        "#EXERCÍCIO 11\n",
        "listaA = [1, 2, 3, 2, 4]\n",
        "listaB = [2, 3, 4, 4]\n",
        "print(f'Função doidona: {QueFuncaoEEssaProfessor(listaA, listaB)}')"
      ],
      "metadata": {
        "colab": {
          "base_uri": "https://localhost:8080/"
        },
        "id": "wV-_lEvd4z89",
        "outputId": "a2e4ce31-4653-49dd-9b9c-4ac4a07d1d37"
      },
      "execution_count": null,
      "outputs": [
        {
          "output_type": "stream",
          "name": "stdout",
          "text": [
            "Função doidona: [3]\n"
          ]
        }
      ]
    },
    {
      "cell_type": "code",
      "source": [
        "#EXERCÍCIO 12\n",
        "LittleLista = [1, 2, 3, 3, 4, 5, 5, 6]\n",
        "print(MaisDeUm(LittleLista))"
      ],
      "metadata": {
        "colab": {
          "base_uri": "https://localhost:8080/"
        },
        "id": "sHwzHCSI40DN",
        "outputId": "c2907b69-1036-4d6c-ea97-26b3ac2f8938"
      },
      "execution_count": null,
      "outputs": [
        {
          "output_type": "stream",
          "name": "stdout",
          "text": [
            "[3, 5]\n"
          ]
        }
      ]
    },
    {
      "cell_type": "code",
      "source": [
        "#EXERCÍCIO 13\n",
        "lista_numeros = [1, 2, 3, 4, 5, 6, 7, 8, 9, 10]\n",
        "print(EncontraPar(lista_numeros))"
      ],
      "metadata": {
        "colab": {
          "base_uri": "https://localhost:8080/"
        },
        "id": "QLHDp65140J2",
        "outputId": "6bf4b7ff-4ddc-4509-dbcb-5bac3e5f23de"
      },
      "execution_count": null,
      "outputs": [
        {
          "output_type": "stream",
          "name": "stdout",
          "text": [
            "[2, 4, 6, 8, 10]\n"
          ]
        }
      ]
    },
    {
      "cell_type": "code",
      "source": [
        "#EXERCÍCIO 14\n",
        "lista_numeros = [1, 2, 3, 4, 5, 6, 7, 8, 9, 10]\n",
        "print(funcaoIndice(lista_numeros, 5))"
      ],
      "metadata": {
        "colab": {
          "base_uri": "https://localhost:8080/"
        },
        "id": "m5I3_uKy40QF",
        "outputId": "844adbdf-9660-4cfd-edfc-b1108e16cf29"
      },
      "execution_count": null,
      "outputs": [
        {
          "output_type": "stream",
          "name": "stdout",
          "text": [
            "[5, 6, 7, 8, 9]\n"
          ]
        }
      ]
    },
    {
      "cell_type": "code",
      "source": [
        "#EXERCÍCIO 15\n",
        "nomes = ['Lucas', 'Python', 'Laboratório', 'Engenharia']\n",
        "print(f'Tamanho das strings: {tamanho(nomes)}')"
      ],
      "metadata": {
        "id": "YhY_HuFj40V_",
        "colab": {
          "base_uri": "https://localhost:8080/"
        },
        "outputId": "9616c0d1-79c6-4aa1-d5ba-8d77099cfabe"
      },
      "execution_count": 2,
      "outputs": [
        {
          "output_type": "stream",
          "name": "stdout",
          "text": [
            "Tamanho das strings: [5, 6, 11, 10]\n"
          ]
        }
      ]
    },
    {
      "cell_type": "code",
      "source": [
        "#EXERCÍCIO 16\n",
        "lista_numeros = [1, 2, 3, 4, 5, 6, 7, 8, 9, 10]\n",
        "print(f'Números ao cubo: {AoCubo(lista_numeros)}')"
      ],
      "metadata": {
        "id": "QsRkz7ih40dd",
        "colab": {
          "base_uri": "https://localhost:8080/"
        },
        "outputId": "5c4ea805-7b3d-4ae9-a845-3a9fd098607b"
      },
      "execution_count": 3,
      "outputs": [
        {
          "output_type": "stream",
          "name": "stdout",
          "text": [
            "Números ao cubo: [1, 8, 27, 64, 125, 216, 343, 512, 729, 1000]\n"
          ]
        }
      ]
    },
    {
      "cell_type": "code",
      "source": [
        "#EXERCÍCIO 17\n",
        "lista_teste = [1, 2, 2, 3, 3, 4, 5]\n",
        "print(f'Os itens que aparecem uma vez na lista são {originais(lista_teste)}')"
      ],
      "metadata": {
        "id": "B3dwmF_P40jd",
        "colab": {
          "base_uri": "https://localhost:8080/"
        },
        "outputId": "29a07f4c-622e-410e-b977-c5af237cebbc"
      },
      "execution_count": 5,
      "outputs": [
        {
          "output_type": "stream",
          "name": "stdout",
          "text": [
            "Os itens que aparecem uma vez na lista são [1, 4, 5]\n"
          ]
        }
      ]
    },
    {
      "cell_type": "code",
      "source": [
        "#EXERCÍCIO 18\n",
        "nomes = ['Lucas', 'python', 'Laboratório', 'engenharia']\n",
        "print(f'As palavras capitalizadas são: {maiusculo(nomes)}')"
      ],
      "metadata": {
        "id": "xN8TA4IG40qm",
        "colab": {
          "base_uri": "https://localhost:8080/"
        },
        "outputId": "2aa34bbb-29ea-4a0a-8b58-76b837f72214"
      },
      "execution_count": 8,
      "outputs": [
        {
          "output_type": "stream",
          "name": "stdout",
          "text": [
            "As palavras capitalizadas são: ['Lucas', 'Laboratório']\n"
          ]
        }
      ]
    },
    {
      "cell_type": "code",
      "source": [
        "#EXERCÍCIO 19\n",
        "lista_numeros = [1, 2, 3, 4, 5, 6, 7, 8, 9, 10]\n",
        "print(f'Os múltiplos de 3 são: {MultiploDe3(lista_numeros)}')"
      ],
      "metadata": {
        "id": "8uHIAO2540wd",
        "colab": {
          "base_uri": "https://localhost:8080/"
        },
        "outputId": "e415ebd7-71ed-4890-831e-44e7860e122a"
      },
      "execution_count": 10,
      "outputs": [
        {
          "output_type": "stream",
          "name": "stdout",
          "text": [
            "Os múltiplos de 3 são: [3, 6, 9]\n"
          ]
        }
      ]
    },
    {
      "cell_type": "code",
      "source": [
        "#EXERCÍCIO 20\n",
        "listaA = [50, 1, -3, 2, 3, 40, 19]\n",
        "listaB = [50, 2, 40, 3, 4, 9, -3]\n",
        "\n",
        "print(f'A interseção ordenada das lista é {intersecao_ordenada(listaA, listaB)}')"
      ],
      "metadata": {
        "id": "V-SEdSjf403V",
        "colab": {
          "base_uri": "https://localhost:8080/"
        },
        "outputId": "84613725-1c32-4bcb-8eb0-efb66cc1a7f9"
      },
      "execution_count": 13,
      "outputs": [
        {
          "output_type": "stream",
          "name": "stdout",
          "text": [
            "A interseção ordenada das lista é [-3, 2, 3, 40, 50]\n"
          ]
        }
      ]
    }
  ]
}
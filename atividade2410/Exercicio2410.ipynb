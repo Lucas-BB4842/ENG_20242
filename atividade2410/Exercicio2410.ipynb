{
  "nbformat": 4,
  "nbformat_minor": 0,
  "metadata": {
    "colab": {
      "provenance": [],
      "authorship_tag": "ABX9TyNcdN/v9uilvd0Hbt0MpESh",
      "include_colab_link": true
    },
    "kernelspec": {
      "name": "python3",
      "display_name": "Python 3"
    },
    "language_info": {
      "name": "python"
    }
  },
  "cells": [
    {
      "cell_type": "markdown",
      "metadata": {
        "id": "view-in-github",
        "colab_type": "text"
      },
      "source": [
        "<a href=\"https://colab.research.google.com/github/Lucas-BB4842/ENG_20242/blob/main/atividade2410/Exercicio2410.ipynb\" target=\"_parent\"><img src=\"https://colab.research.google.com/assets/colab-badge.svg\" alt=\"Open In Colab\"/></a>"
      ]
    },
    {
      "cell_type": "code",
      "execution_count": null,
      "metadata": {
        "id": "0AXvLQZACl8l"
      },
      "outputs": [],
      "source": [
        "#1. Crie uma lista contendo cinco números inteiros de sua escolha. Em seguida, percorra essa lista e imprima o valor de cada elemento multiplicado por 2.\n",
        "#   O resultado deve mostrar o novo valor de cada elemento, um por vez.\n",
        "nums = [1, 2, 3, 4, 5]\n",
        "for i in range:\n",
        "  print(f\")"
      ]
    }
  ]
}